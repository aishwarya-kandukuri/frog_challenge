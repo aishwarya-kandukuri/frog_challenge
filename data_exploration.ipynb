{
 "cells": [
  {
   "cell_type": "markdown",
   "metadata": {},
   "source": [
    "##  Import Libraries"
   ]
  },
  {
   "cell_type": "code",
   "execution_count": 8,
   "metadata": {},
   "outputs": [],
   "source": [
    "import pystac\n",
    "import fsspec\n",
    "import xarray as xr\n",
    "import pandas as pd"
   ]
  },
  {
   "cell_type": "markdown",
   "metadata": {},
   "source": [
    "## Data Load"
   ]
  },
  {
   "cell_type": "code",
   "execution_count": 9,
   "metadata": {},
   "outputs": [
    {
     "ename": "ValueError",
     "evalue": "unrecognized engine zarr must be one of: ['store']",
     "output_type": "error",
     "traceback": [
      "\u001b[1;31m---------------------------------------------------------------------------\u001b[0m",
      "\u001b[1;31mValueError\u001b[0m                                Traceback (most recent call last)",
      "\u001b[1;32mc:\\Users\\WM921DQ\\OneDrive - EY\\Documents\\Better Working World Challenge\\frog_challenge\\data_exploration.ipynb Cell 4'\u001b[0m in \u001b[0;36m<cell line: 6>\u001b[1;34m()\u001b[0m\n\u001b[0;32m      <a href='vscode-notebook-cell:/c%3A/Users/WM921DQ/OneDrive%20-%20EY/Documents/Better%20Working%20World%20Challenge/frog_challenge/data_exploration.ipynb#ch0000001?line=3'>4</a>\u001b[0m asset \u001b[39m=\u001b[39m collection\u001b[39m.\u001b[39massets[\u001b[39m\"\u001b[39m\u001b[39mzarr-https\u001b[39m\u001b[39m\"\u001b[39m]\n\u001b[0;32m      <a href='vscode-notebook-cell:/c%3A/Users/WM921DQ/OneDrive%20-%20EY/Documents/Better%20Working%20World%20Challenge/frog_challenge/data_exploration.ipynb#ch0000001?line=4'>5</a>\u001b[0m store \u001b[39m=\u001b[39m fsspec\u001b[39m.\u001b[39mget_mapper(asset\u001b[39m.\u001b[39mhref)\n\u001b[1;32m----> <a href='vscode-notebook-cell:/c%3A/Users/WM921DQ/OneDrive%20-%20EY/Documents/Better%20Working%20World%20Challenge/frog_challenge/data_exploration.ipynb#ch0000001?line=5'>6</a>\u001b[0m ds \u001b[39m=\u001b[39m xr\u001b[39m.\u001b[39mopen_zarr(store, \u001b[39m*\u001b[39m\u001b[39m*\u001b[39masset\u001b[39m.\u001b[39mextra_fields[\u001b[39m\"\u001b[39m\u001b[39mxarray:open_kwargs\u001b[39m\u001b[39m\"\u001b[39m])\n\u001b[0;32m      <a href='vscode-notebook-cell:/c%3A/Users/WM921DQ/OneDrive%20-%20EY/Documents/Better%20Working%20World%20Challenge/frog_challenge/data_exploration.ipynb#ch0000001?line=6'>7</a>\u001b[0m ds\n",
      "File \u001b[1;32m~\\Anaconda3\\envs\\BWW\\lib\\site-packages\\xarray\\backends\\zarr.py:752\u001b[0m, in \u001b[0;36mopen_zarr\u001b[1;34m(store, group, synchronizer, chunks, decode_cf, mask_and_scale, decode_times, concat_characters, decode_coords, drop_variables, consolidated, overwrite_encoded_chunks, chunk_store, storage_options, decode_timedelta, use_cftime, **kwargs)\u001b[0m\n\u001b[0;32m    <a href='file:///c%3A/Users/WM921DQ/Anaconda3/envs/BWW/lib/site-packages/xarray/backends/zarr.py?line=738'>739</a>\u001b[0m     \u001b[39mraise\u001b[39;00m \u001b[39mTypeError\u001b[39;00m(\n\u001b[0;32m    <a href='file:///c%3A/Users/WM921DQ/Anaconda3/envs/BWW/lib/site-packages/xarray/backends/zarr.py?line=739'>740</a>\u001b[0m         \u001b[39m\"\u001b[39m\u001b[39mopen_zarr() got unexpected keyword arguments \u001b[39m\u001b[39m\"\u001b[39m \u001b[39m+\u001b[39m \u001b[39m\"\u001b[39m\u001b[39m,\u001b[39m\u001b[39m\"\u001b[39m\u001b[39m.\u001b[39mjoin(kwargs\u001b[39m.\u001b[39mkeys())\n\u001b[0;32m    <a href='file:///c%3A/Users/WM921DQ/Anaconda3/envs/BWW/lib/site-packages/xarray/backends/zarr.py?line=740'>741</a>\u001b[0m     )\n\u001b[0;32m    <a href='file:///c%3A/Users/WM921DQ/Anaconda3/envs/BWW/lib/site-packages/xarray/backends/zarr.py?line=742'>743</a>\u001b[0m backend_kwargs \u001b[39m=\u001b[39m {\n\u001b[0;32m    <a href='file:///c%3A/Users/WM921DQ/Anaconda3/envs/BWW/lib/site-packages/xarray/backends/zarr.py?line=743'>744</a>\u001b[0m     \u001b[39m\"\u001b[39m\u001b[39msynchronizer\u001b[39m\u001b[39m\"\u001b[39m: synchronizer,\n\u001b[0;32m    <a href='file:///c%3A/Users/WM921DQ/Anaconda3/envs/BWW/lib/site-packages/xarray/backends/zarr.py?line=744'>745</a>\u001b[0m     \u001b[39m\"\u001b[39m\u001b[39mconsolidated\u001b[39m\u001b[39m\"\u001b[39m: consolidated,\n\u001b[1;32m   (...)\u001b[0m\n\u001b[0;32m    <a href='file:///c%3A/Users/WM921DQ/Anaconda3/envs/BWW/lib/site-packages/xarray/backends/zarr.py?line=748'>749</a>\u001b[0m     \u001b[39m\"\u001b[39m\u001b[39mstacklevel\u001b[39m\u001b[39m\"\u001b[39m: \u001b[39m4\u001b[39m,\n\u001b[0;32m    <a href='file:///c%3A/Users/WM921DQ/Anaconda3/envs/BWW/lib/site-packages/xarray/backends/zarr.py?line=749'>750</a>\u001b[0m }\n\u001b[1;32m--> <a href='file:///c%3A/Users/WM921DQ/Anaconda3/envs/BWW/lib/site-packages/xarray/backends/zarr.py?line=751'>752</a>\u001b[0m ds \u001b[39m=\u001b[39m open_dataset(\n\u001b[0;32m    <a href='file:///c%3A/Users/WM921DQ/Anaconda3/envs/BWW/lib/site-packages/xarray/backends/zarr.py?line=752'>753</a>\u001b[0m     filename_or_obj\u001b[39m=\u001b[39;49mstore,\n\u001b[0;32m    <a href='file:///c%3A/Users/WM921DQ/Anaconda3/envs/BWW/lib/site-packages/xarray/backends/zarr.py?line=753'>754</a>\u001b[0m     group\u001b[39m=\u001b[39;49mgroup,\n\u001b[0;32m    <a href='file:///c%3A/Users/WM921DQ/Anaconda3/envs/BWW/lib/site-packages/xarray/backends/zarr.py?line=754'>755</a>\u001b[0m     decode_cf\u001b[39m=\u001b[39;49mdecode_cf,\n\u001b[0;32m    <a href='file:///c%3A/Users/WM921DQ/Anaconda3/envs/BWW/lib/site-packages/xarray/backends/zarr.py?line=755'>756</a>\u001b[0m     mask_and_scale\u001b[39m=\u001b[39;49mmask_and_scale,\n\u001b[0;32m    <a href='file:///c%3A/Users/WM921DQ/Anaconda3/envs/BWW/lib/site-packages/xarray/backends/zarr.py?line=756'>757</a>\u001b[0m     decode_times\u001b[39m=\u001b[39;49mdecode_times,\n\u001b[0;32m    <a href='file:///c%3A/Users/WM921DQ/Anaconda3/envs/BWW/lib/site-packages/xarray/backends/zarr.py?line=757'>758</a>\u001b[0m     concat_characters\u001b[39m=\u001b[39;49mconcat_characters,\n\u001b[0;32m    <a href='file:///c%3A/Users/WM921DQ/Anaconda3/envs/BWW/lib/site-packages/xarray/backends/zarr.py?line=758'>759</a>\u001b[0m     decode_coords\u001b[39m=\u001b[39;49mdecode_coords,\n\u001b[0;32m    <a href='file:///c%3A/Users/WM921DQ/Anaconda3/envs/BWW/lib/site-packages/xarray/backends/zarr.py?line=759'>760</a>\u001b[0m     engine\u001b[39m=\u001b[39;49m\u001b[39m\"\u001b[39;49m\u001b[39mzarr\u001b[39;49m\u001b[39m\"\u001b[39;49m,\n\u001b[0;32m    <a href='file:///c%3A/Users/WM921DQ/Anaconda3/envs/BWW/lib/site-packages/xarray/backends/zarr.py?line=760'>761</a>\u001b[0m     chunks\u001b[39m=\u001b[39;49mchunks,\n\u001b[0;32m    <a href='file:///c%3A/Users/WM921DQ/Anaconda3/envs/BWW/lib/site-packages/xarray/backends/zarr.py?line=761'>762</a>\u001b[0m     drop_variables\u001b[39m=\u001b[39;49mdrop_variables,\n\u001b[0;32m    <a href='file:///c%3A/Users/WM921DQ/Anaconda3/envs/BWW/lib/site-packages/xarray/backends/zarr.py?line=762'>763</a>\u001b[0m     backend_kwargs\u001b[39m=\u001b[39;49mbackend_kwargs,\n\u001b[0;32m    <a href='file:///c%3A/Users/WM921DQ/Anaconda3/envs/BWW/lib/site-packages/xarray/backends/zarr.py?line=763'>764</a>\u001b[0m     decode_timedelta\u001b[39m=\u001b[39;49mdecode_timedelta,\n\u001b[0;32m    <a href='file:///c%3A/Users/WM921DQ/Anaconda3/envs/BWW/lib/site-packages/xarray/backends/zarr.py?line=764'>765</a>\u001b[0m     use_cftime\u001b[39m=\u001b[39;49muse_cftime,\n\u001b[0;32m    <a href='file:///c%3A/Users/WM921DQ/Anaconda3/envs/BWW/lib/site-packages/xarray/backends/zarr.py?line=765'>766</a>\u001b[0m )\n\u001b[0;32m    <a href='file:///c%3A/Users/WM921DQ/Anaconda3/envs/BWW/lib/site-packages/xarray/backends/zarr.py?line=766'>767</a>\u001b[0m \u001b[39mreturn\u001b[39;00m ds\n",
      "File \u001b[1;32m~\\Anaconda3\\envs\\BWW\\lib\\site-packages\\xarray\\backends\\api.py:481\u001b[0m, in \u001b[0;36mopen_dataset\u001b[1;34m(filename_or_obj, engine, chunks, cache, decode_cf, mask_and_scale, decode_times, decode_timedelta, use_cftime, concat_characters, decode_coords, drop_variables, backend_kwargs, *args, **kwargs)\u001b[0m\n\u001b[0;32m    <a href='file:///c%3A/Users/WM921DQ/Anaconda3/envs/BWW/lib/site-packages/xarray/backends/api.py?line=477'>478</a>\u001b[0m \u001b[39mif\u001b[39;00m engine \u001b[39mis\u001b[39;00m \u001b[39mNone\u001b[39;00m:\n\u001b[0;32m    <a href='file:///c%3A/Users/WM921DQ/Anaconda3/envs/BWW/lib/site-packages/xarray/backends/api.py?line=478'>479</a>\u001b[0m     engine \u001b[39m=\u001b[39m plugins\u001b[39m.\u001b[39mguess_engine(filename_or_obj)\n\u001b[1;32m--> <a href='file:///c%3A/Users/WM921DQ/Anaconda3/envs/BWW/lib/site-packages/xarray/backends/api.py?line=480'>481</a>\u001b[0m backend \u001b[39m=\u001b[39m plugins\u001b[39m.\u001b[39;49mget_backend(engine)\n\u001b[0;32m    <a href='file:///c%3A/Users/WM921DQ/Anaconda3/envs/BWW/lib/site-packages/xarray/backends/api.py?line=482'>483</a>\u001b[0m decoders \u001b[39m=\u001b[39m _resolve_decoders_kwargs(\n\u001b[0;32m    <a href='file:///c%3A/Users/WM921DQ/Anaconda3/envs/BWW/lib/site-packages/xarray/backends/api.py?line=483'>484</a>\u001b[0m     decode_cf,\n\u001b[0;32m    <a href='file:///c%3A/Users/WM921DQ/Anaconda3/envs/BWW/lib/site-packages/xarray/backends/api.py?line=484'>485</a>\u001b[0m     open_backend_dataset_parameters\u001b[39m=\u001b[39mbackend\u001b[39m.\u001b[39mopen_dataset_parameters,\n\u001b[1;32m   (...)\u001b[0m\n\u001b[0;32m    <a href='file:///c%3A/Users/WM921DQ/Anaconda3/envs/BWW/lib/site-packages/xarray/backends/api.py?line=490'>491</a>\u001b[0m     decode_coords\u001b[39m=\u001b[39mdecode_coords,\n\u001b[0;32m    <a href='file:///c%3A/Users/WM921DQ/Anaconda3/envs/BWW/lib/site-packages/xarray/backends/api.py?line=491'>492</a>\u001b[0m )\n\u001b[0;32m    <a href='file:///c%3A/Users/WM921DQ/Anaconda3/envs/BWW/lib/site-packages/xarray/backends/api.py?line=493'>494</a>\u001b[0m overwrite_encoded_chunks \u001b[39m=\u001b[39m kwargs\u001b[39m.\u001b[39mpop(\u001b[39m\"\u001b[39m\u001b[39moverwrite_encoded_chunks\u001b[39m\u001b[39m\"\u001b[39m, \u001b[39mNone\u001b[39;00m)\n",
      "File \u001b[1;32m~\\Anaconda3\\envs\\BWW\\lib\\site-packages\\xarray\\backends\\plugins.py:156\u001b[0m, in \u001b[0;36mget_backend\u001b[1;34m(engine)\u001b[0m\n\u001b[0;32m    <a href='file:///c%3A/Users/WM921DQ/Anaconda3/envs/BWW/lib/site-packages/xarray/backends/plugins.py?line=153'>154</a>\u001b[0m     engines \u001b[39m=\u001b[39m list_engines()\n\u001b[0;32m    <a href='file:///c%3A/Users/WM921DQ/Anaconda3/envs/BWW/lib/site-packages/xarray/backends/plugins.py?line=154'>155</a>\u001b[0m     \u001b[39mif\u001b[39;00m engine \u001b[39mnot\u001b[39;00m \u001b[39min\u001b[39;00m engines:\n\u001b[1;32m--> <a href='file:///c%3A/Users/WM921DQ/Anaconda3/envs/BWW/lib/site-packages/xarray/backends/plugins.py?line=155'>156</a>\u001b[0m         \u001b[39mraise\u001b[39;00m \u001b[39mValueError\u001b[39;00m(\n\u001b[0;32m    <a href='file:///c%3A/Users/WM921DQ/Anaconda3/envs/BWW/lib/site-packages/xarray/backends/plugins.py?line=156'>157</a>\u001b[0m             \u001b[39mf\u001b[39m\u001b[39m\"\u001b[39m\u001b[39munrecognized engine \u001b[39m\u001b[39m{\u001b[39;00mengine\u001b[39m}\u001b[39;00m\u001b[39m must be one of: \u001b[39m\u001b[39m{\u001b[39;00m\u001b[39mlist\u001b[39m(engines)\u001b[39m}\u001b[39;00m\u001b[39m\"\u001b[39m\n\u001b[0;32m    <a href='file:///c%3A/Users/WM921DQ/Anaconda3/envs/BWW/lib/site-packages/xarray/backends/plugins.py?line=157'>158</a>\u001b[0m         )\n\u001b[0;32m    <a href='file:///c%3A/Users/WM921DQ/Anaconda3/envs/BWW/lib/site-packages/xarray/backends/plugins.py?line=158'>159</a>\u001b[0m     backend \u001b[39m=\u001b[39m engines[engine]\n\u001b[0;32m    <a href='file:///c%3A/Users/WM921DQ/Anaconda3/envs/BWW/lib/site-packages/xarray/backends/plugins.py?line=159'>160</a>\u001b[0m \u001b[39melif\u001b[39;00m \u001b[39misinstance\u001b[39m(engine, \u001b[39mtype\u001b[39m) \u001b[39mand\u001b[39;00m \u001b[39missubclass\u001b[39m(engine, BackendEntrypoint):\n",
      "\u001b[1;31mValueError\u001b[0m: unrecognized engine zarr must be one of: ['store']"
     ]
    }
   ],
   "source": [
    "# Extracting data from Planetary Computer Terra Climate catalog\n",
    "url = \"https://planetarycomputer.microsoft.com/api/stac/v1/collections/terraclimate\"\n",
    "collection = pystac.read_file(url)\n",
    "asset = collection.assets[\"zarr-https\"]\n",
    "store = fsspec.get_mapper(asset.href)\n",
    "ds = xr.open_zarr(store, **asset.extra_fields[\"xarray:open_kwargs\"])\n",
    "ds"
   ]
  },
  {
   "cell_type": "code",
   "execution_count": null,
   "metadata": {},
   "outputs": [],
   "source": [
    "#Frog Presence data - 125621 records\n",
    "path_frog_occur = \"occurrence_frogid_125621.csv\"\n",
    "df_frog=pd.read_csv(path_frog_occur,usecols=['eventDate','year','month','decimalLatitude','decimalLongitude','occurrenceStatus',\"stateProvince\"])\n",
    "\n",
    "print(df_frog.shape)\n",
    "df_frog[\"eventDate\"] = pd.to_datetime(df_frog[\"eventDate\"])\n",
    "df_frog.head()"
   ]
  },
  {
   "cell_type": "code",
   "execution_count": null,
   "metadata": {},
   "outputs": [],
   "source": []
  }
 ],
 "metadata": {
  "interpreter": {
   "hash": "f208bfa5d98d99434362b34a241524e2dfc8010ffc369d4ad9146322df80b985"
  },
  "kernelspec": {
   "display_name": "Python 3.9.7 ('base')",
   "language": "python",
   "name": "python3"
  },
  "language_info": {
   "codemirror_mode": {
    "name": "ipython",
    "version": 3
   },
   "file_extension": ".py",
   "mimetype": "text/x-python",
   "name": "python",
   "nbconvert_exporter": "python",
   "pygments_lexer": "ipython3",
   "version": "3.10.3"
  },
  "orig_nbformat": 4
 },
 "nbformat": 4,
 "nbformat_minor": 2
}
